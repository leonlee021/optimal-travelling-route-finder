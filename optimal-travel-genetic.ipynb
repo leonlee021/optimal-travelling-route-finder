{
 "cells": [
  {
   "cell_type": "code",
   "execution_count": 1,
   "metadata": {},
   "outputs": [],
   "source": [
    "import random  \n",
    "import math\n",
    "MIN_MUTATION_RATE=0.01\n",
    "MAX_DISTANCE_SUM=2000\n",
    "TSP_SIZE=9\n",
    "\n",
    "# Below are the distances between each of the ten locations that I plan to visit on my trip.\n",
    "# Location A is the first column and row, location B is the second column and row, etc. For example, 25km is the \n",
    "# distance between Location A and Location B, and 43km is the distance between Location A and Location C.\n",
    "mat = [[ 0, 4.7, 2.4, 7.9, 7.8, 9.4, 5.6, 7.2, 4.0, 5.1], \n",
    "       [ 4.7, 0, 1.4, 5.3, 5.2, 5.8, 4.2, 3.2, 3.4, 7.4], \n",
    "       [ 2.4, 1.4, 0, 6.2, 5.6, 7.1, 4.4, 4.5, 2.7,6.6], \n",
    "       [ 7.9, 5.3, 6.2, 0, 1.3, 3.3, 8.5, 2.4, 7.5,11], \n",
    "       [ 7.8, 5.2, 5.6, 1.3, 0, 2, 7.2, 1.7, 7.2, 10], \n",
    "       [ 9.4, 5.8, 7.1, 3.3, 2, 0, 8.4, 2.7, 8.9, 11], \n",
    "       [ 5.6, 4.2, 4.4, 8.5, 7.2, 8.4, 0, 6.2, 2, 5.7], \n",
    "       [ 7.2, 3.2, 4.5, 2.4, 1.7, 2.7, 6.2, 0, 7.3, 9.9], \n",
    "       [ 4, 3.4, 2.7, 7.5, 7.2, 8.9, 2, 7.3, 0, 4.5], \n",
    "       [ 5.1, 7.4, 6.6, 11, 10, 11, 5.7, 9.9, 4.5, 0]]\n",
    "\n",
    "# Calculating for the shortest path distance for a 'chromosome' in the genetic algorithm, or a travelling route in \n",
    "# this case.\n",
    "def TSP_distance (chromo):    \n",
    "    distance=mat[0][chromo[0]]\n",
    "    loc=0    \n",
    "    for gene in chromo:\n",
    "        distance = distance + mat[chromo[loc]][chromo[loc+1]]\n",
    "        loc=loc+1\n",
    "        if(loc==len(chromo)-1):\n",
    "            return(distance)\n",
    "\n",
    "# As the shorter the route is, the better, we subtract the TSP_distance from MAX_DISTANCE_SUM to attribute a greater\n",
    "# number to the better (which is the shorter) routes. The fitness function, fitnessftn, is a measure of how short the\n",
    "# route is.\n",
    "def fitnessftn (chromo):    \n",
    "    return(MAX_DISTANCE_SUM-TSP_distance(chromo))\n",
    "\n",
    "# Generating random travelling routes.\n",
    "def ran_seq(num): \n",
    "    alist=[]\n",
    "    for i in range(0,num):               \n",
    "        alist.append(new_rand_ele(num,alist))\n",
    "    return(alist)\n",
    "\n",
    "# Generating random numbers (or, locations to visit next) to append to the ran_seq above.\n",
    "def new_rand_ele(num, alist):\n",
    "    while 1:\n",
    "        gennum = int(random.random()*num+1)\n",
    "        if(ele_in_alist(gennum, alist)==0):\n",
    "            return(gennum)\n",
    "\n",
    "def ele_in_alist(num, alist):\n",
    "    for i in alist:\n",
    "        if(num==i):\n",
    "            return 1\n",
    "    return 0\n",
    "\n",
    "# Generating an initial population of routes, to then apply the genetic algorithm to.\n",
    "def init_population(num, size):\n",
    "    alist=[]\n",
    "    for i in range (0,size):\n",
    "        blist=ran_seq(num)\n",
    "        alist.append(blist)\n",
    "    return(alist)\n",
    "\n",
    "# Selecting random routes from the population for 'recombination' to produce 'offsprings'.\n",
    "# The greater the fitness function, the greater chance a route has of being selected. This is an imitation of the\n",
    "# survival of the fittest.\n",
    "def selection(population):\n",
    "    alist=[]\n",
    "    totfit=0\n",
    "    for chromo in population:\n",
    "        fit=fitnessftn(chromo)\n",
    "        totfit=totfit+fit\n",
    "        alist.append(fit)\n",
    "    randnum=random.random() # generating a random number, randnum\n",
    "    index=0\n",
    "    fitsum=0\n",
    "    for fit in alist:\n",
    "        fitsum=fitsum+fit       \n",
    "        if(randnum <fitsum/totfit):\n",
    "            break\n",
    "        index=index+1\n",
    "    return(population[index])\n",
    "    \n",
    "# We use a method called uniform order-based crossover to generate 'child' routes from two 'parent' \n",
    "# routes to generate a route with hopefully a greater fitness function.\n",
    "def uniform_order_based_crossover_with_mutation(paren1, paren2, rate):\n",
    "    template=[]\n",
    "    resul=[]\n",
    "    for i in range(0,len(paren1)):\n",
    "        template.append(int(random.random()*2))\n",
    "    index=0\n",
    "    child1=[]\n",
    "    child2=[]\n",
    "    rem1=[]\n",
    "    rem2=[]\n",
    "    for i in template:\n",
    "        if(i==1):\n",
    "            child1.append(paren1[index])\n",
    "            child2.append(paren2[index])            \n",
    "        else:\n",
    "            child1.append(0)\n",
    "            child2.append(0)\n",
    "            rem1.append(paren1[index])\n",
    "            rem2.append(paren2[index])\n",
    "        index=index+1\n",
    "    sublist1=sorted_sublist(rem1,paren2)\n",
    "    sublist2=sorted_sublist(rem2,paren1)\n",
    "    remindex=0\n",
    "    index=0\n",
    "    for i in child1:\n",
    "        if(i==0):\n",
    "            child1[index]=sublist1[remindex]\n",
    "            child2[index]=sublist2[remindex]\n",
    "            remindex=remindex+1\n",
    "        index=index+1\n",
    "    resul.append(per_mutation(child1,rate))\n",
    "    resul.append(per_mutation(child2,rate))\n",
    "    return(resul)\n",
    "\n",
    "def sorted_sublist(small,large):\n",
    "    alist=[]\n",
    "    for i in large:\n",
    "        if(ele_in_alist(i, small)==1):\n",
    "            alist.append(i)\n",
    "    return(alist)\n",
    "\n",
    "def GA_TSP(pop_size,num_gen, mutation_rate, elite_num): # Genetic Algorithm _ The Shortest Path\n",
    "    # Population size (the number of routes to produce every generation), the number of generatons, the mutation\n",
    "    # rate, and the number of 'elite chromosomes' to pass on (a certain number of the shortest routes are \n",
    "    # automatically passed onto the next generation)\n",
    "    old_gen=init_population(TSP_SIZE,pop_size)  \n",
    "    best_route=best_chro(old_gen)  # Finding the best 'chromosome' and attributing it to best_route.\n",
    "    print(\"Avg Fit of Gen 0\", total_fitness(old_gen)/pop_size)    # Finding the average fitness score of the \n",
    "    # first 'generation' of routes generated.\n",
    "    print(\"Gen 0 Best Route Fitness\",fitnessftn(best_route),best_route) #Finding the best fitness score out of the\n",
    "    # first 'generation' of routes generated.\n",
    "    crossoverpairs_num= int((pop_size-elite_num)/2)  \n",
    "    best_avg_fit=total_fitness(old_gen)/pop_size\n",
    "    for j in range(0,num_gen):                \n",
    "        new_gen=[]\n",
    "        elites=[]\n",
    "        bbb=elite_chros_indices(old_gen,elite_num)        \n",
    "        for i in bbb:\n",
    "            new_gen.append(old_gen[i])\n",
    "        for i in range(0,crossoverpairs_num):        \n",
    "            crossovered=uniform_order_based_crossover_with_mutation(selection(old_gen),selection(old_gen),mutation_rate)\n",
    "            new_gen.extend(crossovered)\n",
    "        best_route_new_gen=best_chro(new_gen)\n",
    "        if(fitnessftn(best_route_new_gen)>fitnessftn(best_route)):\n",
    "            best_route=best_route_new_gen\n",
    "            print(\"Gen\", j+1,\"Best Route Fitness\",fitnessftn(best_route),best_route)\n",
    "        avg_fit=total_fitness(new_gen)/pop_size          \n",
    "        if(avg_fit>best_avg_fit):\n",
    "            best_avg_fit=avg_fit\n",
    "            print(\"Avg Fit of Gen \", j+1, \"=\",avg_fit) # print message everytime the best route fitness is improved\n",
    "            # across generations.\n",
    "        old_gen=new_gen\n",
    "    print(\"Gen\", j+1,\"Best Route Distance\",TSP_distance(best_route),best_route)\n",
    "    \n",
    "# Calculating for the total fitness score of a generation of routes.\n",
    "def total_fitness(population):\n",
    "    totfit=0\n",
    "    for chromo in population:\n",
    "        fit=fitnessftn(chromo)\n",
    "        totfit=totfit+fit\n",
    "    return(totfit)\n",
    "\n",
    "# Finding the best fitness score from a generation of routes.\n",
    "def best_chro(population):\n",
    "    MINFIT=-1000\n",
    "    best_index=0\n",
    "    index=0    \n",
    "    best_fit=MINFIT\n",
    "    for chromo in population:\n",
    "        fit=fitnessftn(chromo)\n",
    "        if(best_fit <fit):\n",
    "            best_index=index\n",
    "            best_fit=fit\n",
    "        index=index+1        \n",
    "    return(population[best_index])\n",
    "\n",
    "# Finding the index of the best chromosome in a population.\n",
    "def best_chro_index(alist,exceptlist):\n",
    "    MINFIT=-1000\n",
    "    best_index=0\n",
    "    index=0    \n",
    "    best_fit=MINFIT\n",
    "    for chromo in alist:\n",
    "        if(element_in_list(index,exceptlist)==1):\n",
    "            index=index+1\n",
    "            continue\n",
    "        fit=fitnessftn(chromo)\n",
    "        if(best_fit <fit):\n",
    "            best_index=index\n",
    "            best_fit=fit\n",
    "        index=index+1        \n",
    "    return(best_index)\n",
    "\n",
    "# Collecting the indicies of the best chromosomes, or the shortest routes, produced in a generation.\n",
    "def elite_chros_indices(alist,num):  \n",
    "    resul=[]    \n",
    "    for i in range(0,num):\n",
    "        best_index=best_chro_index(alist,resul)\n",
    "        resul.append(best_index)\n",
    "    return(resul)\n",
    "\n",
    "def element_in_list(ele,alist):\n",
    "    for i in alist:\n",
    "        if(ele==i):\n",
    "            return(1)\n",
    "    return(0)\n",
    "\n",
    "def per_mutation(alist, rate):\n",
    "    index=0    \n",
    "    listlen=len(alist)\n",
    "    firstele=alist[0]\n",
    "    secondele=alist[1]\n",
    "    blist=[]\n",
    "    for i in alist:    \n",
    "        if(index<listlen-1):\n",
    "            if(random.random()<rate):\n",
    "                blist.append(secondele)\n",
    "            else:\n",
    "                blist.append(firstele)\n",
    "                firstele=secondele\n",
    "        else:\n",
    "            break\n",
    "        index=index+1\n",
    "        if(index<listlen-1):\n",
    "            secondele=alist[index+1]\n",
    "        else:\n",
    "            break\n",
    "    if(random.random()<rate):\n",
    "        blist.append(blist[0])        \n",
    "        blist[0]=firstele\n",
    "    else:\n",
    "        blist.append(firstele)        \n",
    "    return(blist)"
   ]
  },
  {
   "cell_type": "code",
   "execution_count": 2,
   "metadata": {},
   "outputs": [
    {
     "data": {
      "text/plain": [
       "[1, 3, 2, 5, 4]"
      ]
     },
     "execution_count": 2,
     "metadata": {},
     "output_type": "execute_result"
    }
   ],
   "source": [
    "ran_seq(5)\n",
    "# Testing the ran_seq function."
   ]
  },
  {
   "cell_type": "code",
   "execution_count": 3,
   "metadata": {},
   "outputs": [
    {
     "data": {
      "text/plain": [
       "[[0, 4.7, 2.4, 7.9, 7.8, 9.4, 5.6, 7.2, 4.0, 5.1],\n",
       " [4.7, 0, 1.4, 5.3, 5.2, 5.8, 4.2, 3.2, 3.4, 7.4],\n",
       " [2.4, 1.4, 0, 6.2, 5.6, 7.1, 4.4, 4.5, 2.7, 6.6],\n",
       " [7.9, 5.3, 6.2, 0, 1.3, 3.3, 8.5, 2.4, 7.5, 11],\n",
       " [7.8, 5.2, 5.6, 1.3, 0, 2, 7.2, 1.7, 7.2, 10],\n",
       " [9.4, 5.8, 7.1, 3.3, 2, 0, 8.4, 2.7, 8.9, 11],\n",
       " [5.6, 4.2, 4.4, 8.5, 7.2, 8.4, 0, 6.2, 2, 5.7],\n",
       " [7.2, 3.2, 4.5, 2.4, 1.7, 2.7, 6.2, 0, 7.3, 9.9],\n",
       " [4, 3.4, 2.7, 7.5, 7.2, 8.9, 2, 7.3, 0, 4.5],\n",
       " [5.1, 7.4, 6.6, 11, 10, 11, 5.7, 9.9, 4.5, 0]]"
      ]
     },
     "execution_count": 3,
     "metadata": {},
     "output_type": "execute_result"
    }
   ],
   "source": [
    "mat"
   ]
  },
  {
   "cell_type": "code",
   "execution_count": 4,
   "metadata": {},
   "outputs": [],
   "source": [
    "chromosome1 = [1, 2, 3, 4, 5, 6, 7, 8, 9]\n",
    "chromosome2 = [1, 2, 6, 7, 8, 9, 3, 4, 5]\n",
    "chromosome3 = [9, 3, 4, 5, 1, 2, 6, 7, 8]\n",
    "# Test with three random 'chromosomes'. This is how a route would be formatted. \n",
    "# For example, chromosome3 is a route that starts from Location 9, then goes to 3, then goes to 4, etc."
   ]
  },
  {
   "cell_type": "code",
   "execution_count": 5,
   "metadata": {},
   "outputs": [
    {
     "name": "stdout",
     "output_type": "stream",
     "text": [
      "1958.0\n",
      "1957.2\n",
      "1955.5\n"
     ]
    }
   ],
   "source": [
    "print(fitnessftn(chromosome1))\n",
    "print(fitnessftn(chromosome2))\n",
    "print(fitnessftn(chromosome3))\n",
    "# These are the total distances that the travel would take using each of the routes. It can be seen that chromosome3\n",
    "# is the shortest route."
   ]
  },
  {
   "cell_type": "code",
   "execution_count": 6,
   "metadata": {},
   "outputs": [],
   "source": [
    "ipop=init_population(9,40)\n",
    "# Testing the init_population function to generate a population of routes."
   ]
  },
  {
   "cell_type": "code",
   "execution_count": 7,
   "metadata": {},
   "outputs": [
    {
     "data": {
      "text/plain": [
       "[[8, 7, 4, 2, 9, 1, 6, 5, 3],\n",
       " [5, 3, 2, 7, 1, 4, 8, 9, 6],\n",
       " [2, 3, 4, 9, 7, 8, 5, 6, 1],\n",
       " [7, 1, 4, 2, 6, 5, 8, 9, 3],\n",
       " [5, 7, 8, 9, 4, 1, 6, 2, 3],\n",
       " [4, 1, 9, 2, 3, 7, 6, 5, 8],\n",
       " [5, 3, 8, 7, 9, 1, 6, 4, 2],\n",
       " [6, 4, 2, 1, 5, 9, 3, 8, 7],\n",
       " [8, 1, 3, 4, 5, 2, 6, 7, 9],\n",
       " [2, 1, 4, 7, 9, 8, 6, 5, 3],\n",
       " [7, 5, 4, 3, 1, 8, 6, 2, 9],\n",
       " [5, 7, 4, 8, 2, 1, 6, 9, 3],\n",
       " [2, 3, 1, 6, 7, 4, 5, 8, 9],\n",
       " [2, 3, 6, 1, 7, 9, 4, 8, 5],\n",
       " [9, 7, 6, 8, 4, 2, 1, 3, 5],\n",
       " [6, 8, 9, 5, 1, 7, 4, 2, 3],\n",
       " [1, 4, 8, 6, 7, 2, 3, 9, 5],\n",
       " [8, 2, 4, 1, 7, 5, 3, 6, 9],\n",
       " [9, 4, 1, 6, 5, 3, 7, 8, 2],\n",
       " [9, 5, 7, 8, 2, 4, 6, 1, 3],\n",
       " [2, 1, 4, 8, 9, 3, 7, 5, 6],\n",
       " [3, 7, 9, 6, 5, 4, 2, 1, 8],\n",
       " [8, 3, 7, 9, 4, 1, 2, 6, 5],\n",
       " [4, 9, 3, 8, 6, 7, 2, 5, 1],\n",
       " [1, 3, 5, 7, 9, 4, 8, 2, 6],\n",
       " [4, 9, 3, 5, 2, 1, 7, 8, 6],\n",
       " [3, 9, 5, 1, 6, 7, 4, 8, 2],\n",
       " [8, 5, 7, 6, 1, 9, 2, 3, 4],\n",
       " [2, 7, 8, 5, 1, 6, 4, 3, 9],\n",
       " [2, 8, 1, 4, 7, 6, 5, 3, 9],\n",
       " [4, 9, 3, 5, 8, 7, 6, 1, 2],\n",
       " [5, 4, 1, 6, 7, 2, 3, 9, 8],\n",
       " [8, 6, 3, 1, 9, 5, 2, 7, 4],\n",
       " [8, 6, 9, 3, 7, 2, 4, 1, 5],\n",
       " [9, 3, 7, 5, 4, 8, 1, 6, 2],\n",
       " [4, 2, 3, 9, 1, 6, 8, 7, 5],\n",
       " [1, 2, 6, 9, 8, 7, 5, 3, 4],\n",
       " [1, 6, 7, 9, 4, 2, 8, 5, 3],\n",
       " [7, 8, 4, 2, 6, 9, 3, 1, 5],\n",
       " [3, 7, 4, 9, 2, 1, 6, 8, 5]]"
      ]
     },
     "execution_count": 7,
     "metadata": {},
     "output_type": "execute_result"
    }
   ],
   "source": [
    "ipop"
   ]
  },
  {
   "cell_type": "code",
   "execution_count": 8,
   "metadata": {},
   "outputs": [
    {
     "data": {
      "text/plain": [
       "[2, 1, 4, 8, 9, 3, 7, 5, 6]"
      ]
     },
     "execution_count": 8,
     "metadata": {},
     "output_type": "execute_result"
    }
   ],
   "source": [
    "selection(ipop)\n",
    "# Selecting a random route from ipop."
   ]
  },
  {
   "cell_type": "code",
   "execution_count": 10,
   "metadata": {},
   "outputs": [
    {
     "name": "stdout",
     "output_type": "stream",
     "text": [
      "Avg Fit of Gen 0 1948.225\n",
      "Gen 0 Best Route Fitness 1961.8 [2, 7, 4, 3, 5, 8, 9, 1, 6]\n",
      "Avg Fit of Gen  1 = 1948.4325000000003\n",
      "Gen 2 Best Route Fitness 1963.8 [6, 8, 1, 3, 5, 7, 4, 2, 9]\n",
      "Avg Fit of Gen  3 = 1950.5900000000001\n",
      "Gen 4 Best Route Fitness 1966.5 [1, 6, 8, 9, 2, 7, 4, 5, 3]\n",
      "Gen 6 Best Route Fitness 1967.4 [6, 2, 1, 7, 5, 4, 3, 8, 9]\n",
      "Avg Fit of Gen  8 = 1951.355\n",
      "Gen 36 Best Route Fitness 1969.7 [2, 9, 6, 8, 1, 7, 4, 5, 3]\n",
      "Avg Fit of Gen  40 = 1951.3650000000002\n",
      "Gen 47 Best Route Fitness 1970.3 [2, 8, 9, 6, 1, 7, 4, 5, 3]\n",
      "Avg Fit of Gen  47 = 1951.9399999999998\n",
      "Avg Fit of Gen  48 = 1952.1675\n",
      "Gen 49 Best Route Fitness 1970.4 [6, 8, 9, 2, 1, 7, 4, 3, 5]\n",
      "Gen 50 Best Route Fitness 1970.9 [6, 9, 8, 2, 1, 7, 5, 4, 3]\n",
      "Avg Fit of Gen  50 = 1952.1775000000002\n",
      "Avg Fit of Gen  51 = 1953.3274999999999\n",
      "Avg Fit of Gen  58 = 1953.7750000000003\n",
      "Gen 101 Best Route Fitness 1972.0 [2, 1, 7, 5, 3, 4, 6, 8, 9]\n",
      "Avg Fit of Gen  210 = 1954.9549999999995\n",
      "Avg Fit of Gen  211 = 1955.6149999999998\n",
      "Avg Fit of Gen  731 = 1956.0249999999996\n",
      "Gen 1000 Best Route Distance 28.0 [2, 1, 7, 5, 3, 4, 6, 8, 9]\n"
     ]
    }
   ],
   "source": [
    "GA_TSP(40,1000, 0.02, 0)\n",
    "# Finding the shortest path distance using 40 routes generated per generation, 1000 generations, and a mutation rate\n",
    "# of 0.02 (meaning that there is a 2% chance of a mutation occuring)."
   ]
  },
  {
   "cell_type": "code",
   "execution_count": 11,
   "metadata": {},
   "outputs": [],
   "source": [
    "# The best route generated is [2, 1, 7, 5, 3, 4, 6, 8, 9] according to the above calculations, and is a distance of 28km.\n",
    "# If we run the program again:"
   ]
  },
  {
   "cell_type": "code",
   "execution_count": 12,
   "metadata": {},
   "outputs": [
    {
     "name": "stdout",
     "output_type": "stream",
     "text": [
      "Avg Fit of Gen 0 1949.6200000000001\n",
      "Gen 0 Best Route Fitness 1965.6 [2, 8, 9, 6, 7, 3, 5, 4, 1]\n",
      "Gen 1 Best Route Fitness 1966.8 [9, 6, 8, 3, 5, 4, 7, 2, 1]\n",
      "Avg Fit of Gen  2 = 1950.595\n",
      "Gen 10 Best Route Fitness 1967.1 [9, 6, 2, 8, 1, 4, 3, 7, 5]\n",
      "Avg Fit of Gen  13 = 1951.6200000000001\n",
      "Gen 14 Best Route Fitness 1967.8 [9, 6, 2, 8, 1, 7, 3, 5, 4]\n",
      "Avg Fit of Gen  18 = 1952.4874999999993\n",
      "Gen 39 Best Route Fitness 1968.1 [2, 8, 9, 6, 1, 3, 7, 5, 4]\n",
      "Gen 69 Best Route Fitness 1969.2 [2, 8, 9, 6, 1, 3, 4, 5, 7]\n",
      "Gen 87 Best Route Fitness 1970.4 [2, 1, 8, 9, 6, 7, 5, 4, 3]\n",
      "Avg Fit of Gen  111 = 1952.4975000000009\n",
      "Gen 112 Best Route Fitness 1970.7 [2, 9, 6, 8, 1, 7, 5, 4, 3]\n",
      "Avg Fit of Gen  112 = 1953.7899999999997\n",
      "Avg Fit of Gen  113 = 1954.3925000000004\n",
      "Gen 115 Best Route Fitness 1970.9 [6, 9, 8, 2, 1, 7, 5, 4, 3]\n",
      "Avg Fit of Gen  115 = 1954.6125\n",
      "Gen 116 Best Route Fitness 1973.9 [9, 6, 8, 2, 1, 7, 5, 4, 3]\n",
      "Avg Fit of Gen  116 = 1955.7350000000006\n",
      "Gen 1000 Best Route Distance 26.099999999999998 [9, 6, 8, 2, 1, 7, 5, 4, 3]\n"
     ]
    }
   ],
   "source": [
    "GA_TSP(40,1000, 0.02, 0)"
   ]
  },
  {
   "cell_type": "code",
   "execution_count": null,
   "metadata": {},
   "outputs": [],
   "source": [
    "# This time, we get the best route as [9, 6, 8, 2, 1, 7, 5, 4, 3], and it has a distance of 26km, which is a bit shorter than\n",
    "# the previously attained route.\n",
    "# The genetic algorithm can never guarantee the shortest possible path; that would only be possible by checking\n",
    "# every single route possible, which would take an astronomical amount of time. The genetic algorithm, however, uses\n",
    "# a method inspired by evolution in which it constantly survives the routes with higher fitness functions to \n",
    "#'reproduce' and pass on their 'desirable genes' (survival of the fittest) to the next 'generation', along with \n",
    "# random mutations occuring along the way to make way for the possibility of a randomly generated, but better, route. "
   ]
  }
 ],
 "metadata": {
  "kernelspec": {
   "display_name": "Python 3",
   "language": "python",
   "name": "python3"
  },
  "language_info": {
   "codemirror_mode": {
    "name": "ipython",
    "version": 3
   },
   "file_extension": ".py",
   "mimetype": "text/x-python",
   "name": "python",
   "nbconvert_exporter": "python",
   "pygments_lexer": "ipython3",
   "version": "3.7.4"
  }
 },
 "nbformat": 4,
 "nbformat_minor": 2
}
